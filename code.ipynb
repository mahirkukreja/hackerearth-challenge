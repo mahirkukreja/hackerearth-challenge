{
 "cells": [
  {
   "cell_type": "code",
   "execution_count": 1,
   "metadata": {
    "collapsed": false
   },
   "outputs": [
    {
     "name": "stderr",
     "output_type": "stream",
     "text": [
      "/usr/local/lib/python2.7/dist-packages/sklearn/cross_validation.py:44: DeprecationWarning: This module was deprecated in version 0.18 in favor of the model_selection module into which all the refactored classes and functions are moved. Also note that the interface of the new CV iterators are different from that of this module. This module will be removed in 0.20.\n",
      "  \"This module will be removed in 0.20.\", DeprecationWarning)\n"
     ]
    }
   ],
   "source": [
    "import pandas as pd\n",
    "import numpy as np\n",
    "import re\n",
    "import datetime\n",
    "from nltk.corpus import stopwords\n",
    "from sklearn.preprocessing import LabelEncoder\n",
    "from nltk.stem.snowball import SnowballStemmer\n",
    "from sklearn.feature_extraction.text import CountVectorizer\n",
    "import xgboost as xgb"
   ]
  },
  {
   "cell_type": "code",
   "execution_count": 3,
   "metadata": {
    "collapsed": false
   },
   "outputs": [],
   "source": [
    "train = pd.read_csv('/home/ubuntu/hackerearth_recruitment/train.csv')\n",
    "test = pd.read_csv('/home/ubuntu/hackerearth_recruitment/test.csv')"
   ]
  },
  {
   "cell_type": "code",
   "execution_count": 4,
   "metadata": {
    "collapsed": true
   },
   "outputs": [],
   "source": [
    "ids=test['project_id']"
   ]
  },
  {
   "cell_type": "code",
   "execution_count": 5,
   "metadata": {
    "collapsed": false
   },
   "outputs": [],
   "source": [
    "unix_cols = ['deadline','state_changed_at','launched_at','created_at']\n",
    "\n",
    "for x in unix_cols:\n",
    "    train[x] = train[x].apply(lambda k: datetime.datetime.fromtimestamp(int(k)).strftime('%Y-%m-%d %H:%M:%S'))\n",
    "    test[x] = test[x].apply(lambda k: datetime.datetime.fromtimestamp(int(k)).strftime('%Y-%m-%d %H:%M:%S'))\n"
   ]
  },
  {
   "cell_type": "code",
   "execution_count": 6,
   "metadata": {
    "collapsed": true
   },
   "outputs": [],
   "source": [
    "cols_to_use = ['name','desc']\n",
    "len_feats = ['name_len','desc_len']\n",
    "count_feats = ['name_count','desc_count']\n",
    "\n",
    "for i in range(2):\n",
    "    train[len_feats[i]] = train[cols_to_use[i]].apply(str).apply(len)\n",
    "    test[len_feats[i]] = test[cols_to_use[i]].apply(str).apply(len)"
   ]
  },
  {
   "cell_type": "code",
   "execution_count": 7,
   "metadata": {
    "collapsed": true
   },
   "outputs": [],
   "source": [
    "train['name_count'] = train['name'].str.split().str.len()\n",
    "train['desc_count'] = train['desc'].str.split().str.len()\n",
    "\n",
    "test['name_count'] = test['name'].str.split().str.len()\n",
    "test['desc_count'] = test['desc'].str.split().str.len()"
   ]
  },
  {
   "cell_type": "code",
   "execution_count": 8,
   "metadata": {
    "collapsed": true
   },
   "outputs": [],
   "source": [
    "train['keywords_len'] = train['keywords'].str.len()\n",
    "train['keywords_count'] = train['keywords'].str.split('-').str.len()\n",
    "\n",
    "test['keywords_len'] = test['keywords'].str.len()\n",
    "test['keywords_count'] = test['keywords'].str.split('-').str.len()"
   ]
  },
  {
   "cell_type": "code",
   "execution_count": 9,
   "metadata": {
    "collapsed": true
   },
   "outputs": [],
   "source": [
    "unix_cols = ['deadline','state_changed_at','launched_at','created_at']\n",
    "\n",
    "for x in unix_cols:\n",
    "    train[x] = train[x].apply(lambda k: datetime.datetime.strptime(k, '%Y-%m-%d %H:%M:%S'))\n",
    "    test[x] = test[x].apply(lambda k: datetime.datetime.strptime(k, '%Y-%m-%d %H:%M:%S'))"
   ]
  },
  {
   "cell_type": "code",
   "execution_count": 11,
   "metadata": {
    "collapsed": false
   },
   "outputs": [],
   "source": [
    "time_lc = []\n",
    "time_dl = []\n",
    "for i in range(train.shape[0]):\n",
    "    time_lc.append(np.round((train.loc[i, 'launched_at'] - train.loc[i, 'created_at']).total_seconds()).astype(int))\n",
    "    time_dl.append(np.round((train.loc[i, 'deadline'] - train.loc[i, 'launched_at']).total_seconds()).astype(int))"
   ]
  },
  {
   "cell_type": "code",
   "execution_count": 12,
   "metadata": {
    "collapsed": true
   },
   "outputs": [],
   "source": [
    "train['time_lc'] = np.log(time_lc)\n",
    "train['time_dl'] = np.log(time_dl)"
   ]
  },
  {
   "cell_type": "code",
   "execution_count": 13,
   "metadata": {
    "collapsed": true
   },
   "outputs": [],
   "source": [
    "time_lc = []\n",
    "time_dl = []\n",
    "for i in range(test.shape[0]):\n",
    "    time_lc.append(np.round((test.loc[i, 'launched_at'] - test.loc[i, 'created_at']).total_seconds()).astype(int))\n",
    "    time_dl.append(np.round((test.loc[i, 'deadline'] - test.loc[i, 'launched_at']).total_seconds()).astype(int))"
   ]
  },
  {
   "cell_type": "code",
   "execution_count": 14,
   "metadata": {
    "collapsed": true
   },
   "outputs": [],
   "source": [
    "test['time_lc'] = np.log(time_lc)\n",
    "test['time_dl'] = np.log(time_dl)"
   ]
  },
  {
   "cell_type": "code",
   "execution_count": 15,
   "metadata": {
    "collapsed": true
   },
   "outputs": [],
   "source": [
    "feat = ['disable_communication','country']\n",
    "\n",
    "for x in feat:\n",
    "    le = LabelEncoder()\n",
    "    le.fit(list(train[x].values) + list(test[x].values))\n",
    "    train[x] = le.transform(list(train[x]))\n",
    "    test[x] = le.transform(list(test[x]))"
   ]
  },
  {
   "cell_type": "code",
   "execution_count": 16,
   "metadata": {
    "collapsed": true
   },
   "outputs": [],
   "source": [
    "train['goal'] = np.log1p(train['goal'])\n",
    "test['goal'] = np.log1p(test['goal'])"
   ]
  },
  {
   "cell_type": "code",
   "execution_count": 17,
   "metadata": {
    "collapsed": true
   },
   "outputs": [],
   "source": [
    "kickdesc = pd.Series(train['desc'].tolist() + test['desc'].tolist()).astype(str)"
   ]
  },
  {
   "cell_type": "code",
   "execution_count": 18,
   "metadata": {
    "collapsed": true
   },
   "outputs": [],
   "source": [
    "def desc_clean(word):\n",
    "    p1 = re.sub(pattern='(\\W+)|(\\d+)|(\\s+)',repl=' ',string=word)\n",
    "    p1 = p1.lower()\n",
    "    return p1\n",
    "kickdesc = kickdesc.map(desc_clean)"
   ]
  },
  {
   "cell_type": "code",
   "execution_count": 19,
   "metadata": {
    "collapsed": false
   },
   "outputs": [],
   "source": [
    "stop = set(stopwords.words('english'))\n",
    "kickdesc = [[x for x in x.split() if x not in stop] for x in kickdesc]\n",
    "\n",
    "stemmer = SnowballStemmer(language='english')\n",
    "kickdesc = [[stemmer.stem(x) for x in x] for x in kickdesc]\n",
    "\n",
    "kickdesc = [[x for x in x if len(x) > 2] for x in kickdesc]\n",
    "\n",
    "kickdesc = [' '.join(x) for x in kickdesc]"
   ]
  },
  {
   "cell_type": "code",
   "execution_count": 20,
   "metadata": {
    "collapsed": true
   },
   "outputs": [],
   "source": [
    "cv = CountVectorizer(max_features=650)"
   ]
  },
  {
   "cell_type": "code",
   "execution_count": 21,
   "metadata": {
    "collapsed": false
   },
   "outputs": [],
   "source": [
    "alldesc = cv.fit_transform(kickdesc).todense()"
   ]
  },
  {
   "cell_type": "code",
   "execution_count": 22,
   "metadata": {
    "collapsed": true
   },
   "outputs": [],
   "source": [
    "combine = pd.DataFrame(alldesc)\n",
    "combine.rename(columns= lambda x: 'variable_'+ str(x), inplace=True)"
   ]
  },
  {
   "cell_type": "code",
   "execution_count": 23,
   "metadata": {
    "collapsed": true
   },
   "outputs": [],
   "source": [
    "train_text = combine[:train.shape[0]]\n",
    "test_text = combine[train.shape[0]:]\n",
    "\n",
    "test_text.reset_index(drop=True,inplace=True)"
   ]
  },
  {
   "cell_type": "code",
   "execution_count": 24,
   "metadata": {
    "collapsed": true
   },
   "outputs": [],
   "source": [
    "cols_to_use = ['name_len','desc_len','keywords_len','name_count','desc_count','keywords_count','time_lc','time_dl','goal']"
   ]
  },
  {
   "cell_type": "code",
   "execution_count": 25,
   "metadata": {
    "collapsed": true
   },
   "outputs": [],
   "source": [
    "target = train['final_status']"
   ]
  },
  {
   "cell_type": "code",
   "execution_count": 26,
   "metadata": {
    "collapsed": true
   },
   "outputs": [],
   "source": [
    "train = train.loc[:,cols_to_use]\n",
    "test = test.loc[:,cols_to_use]"
   ]
  },
  {
   "cell_type": "code",
   "execution_count": 27,
   "metadata": {
    "collapsed": false
   },
   "outputs": [],
   "source": [
    "X_train = pd.concat([train, train_text],axis=1)\n",
    "X_test = pd.concat([test, test_text],axis=1)"
   ]
  },
  {
   "cell_type": "code",
   "execution_count": 28,
   "metadata": {
    "collapsed": false
   },
   "outputs": [
    {
     "name": "stdout",
     "output_type": "stream",
     "text": [
      "(108129, 659)\n",
      "(63465, 659)\n"
     ]
    }
   ],
   "source": [
    "print X_train.shape\n",
    "print X_test.shape"
   ]
  },
  {
   "cell_type": "code",
   "execution_count": 29,
   "metadata": {
    "collapsed": true
   },
   "outputs": [],
   "source": [
    "dtrain = xgb.DMatrix(data=X_train, label = target)\n",
    "dtest = xgb.DMatrix(data=X_test)"
   ]
  },
  {
   "cell_type": "code",
   "execution_count": 32,
   "metadata": {
    "collapsed": true
   },
   "outputs": [],
   "source": [
    "params = {\n",
    "    'objective':'binary:logistic',\n",
    "    'eval_metric':'error',\n",
    "    'eta':0.027,\n",
    "    'max_depth':6,\n",
    "    'subsample':0.72,\n",
    "    'colsample_bytree':0.68,\n",
    "    'min_child_weight':5\n",
    "    \n",
    "}"
   ]
  },
  {
   "cell_type": "code",
   "execution_count": 33,
   "metadata": {
    "collapsed": false
   },
   "outputs": [
    {
     "name": "stdout",
     "output_type": "stream",
     "text": [
      "[0]\ttrain-error:0.312321+0.0010311\ttest-error:0.314793+0.0017622\n",
      "[10]\ttrain-error:0.309149+0.0009354\ttest-error:0.312564+0.00364424\n",
      "[20]\ttrain-error:0.308833+0.000833894\ttest-error:0.312157+0.00278829\n",
      "[30]\ttrain-error:0.30763+0.000813312\ttest-error:0.3115+0.00259392\n",
      "[40]\ttrain-error:0.306354+0.000558816\ttest-error:0.310372+0.00303008\n",
      "[50]\ttrain-error:0.304291+0.000783419\ttest-error:0.308476+0.00228582\n",
      "[60]\ttrain-error:0.302354+0.000391137\ttest-error:0.30769+0.00206937\n",
      "[70]\ttrain-error:0.300788+0.00034748\ttest-error:0.306802+0.00181365\n",
      "[80]\ttrain-error:0.299406+0.000297243\ttest-error:0.305785+0.0016786\n",
      "[90]\ttrain-error:0.297954+0.000327124\ttest-error:0.304462+0.00176786\n",
      "[100]\ttrain-error:0.296765+0.00042665\ttest-error:0.303547+0.00159163\n",
      "[110]\ttrain-error:0.295901+0.000309913\ttest-error:0.303001+0.00162185\n",
      "[120]\ttrain-error:0.294705+0.000495821\ttest-error:0.301975+0.00170372\n",
      "[130]\ttrain-error:0.293838+0.000450899\ttest-error:0.300994+0.00182817\n",
      "[140]\ttrain-error:0.292867+0.000448504\ttest-error:0.300226+0.00207141\n",
      "[150]\ttrain-error:0.29197+0.000418993\ttest-error:0.299764+0.00200328\n",
      "[160]\ttrain-error:0.291147+0.000451118\ttest-error:0.298756+0.00209247\n",
      "[170]\ttrain-error:0.290361+0.000407181\ttest-error:0.298266+0.00228853\n",
      "[180]\ttrain-error:0.289718+0.000284054\ttest-error:0.297767+0.00203921\n",
      "[190]\ttrain-error:0.28905+0.000252563\ttest-error:0.297184+0.00211488\n",
      "[200]\ttrain-error:0.288381+0.00026858\ttest-error:0.297119+0.00229271\n",
      "[210]\ttrain-error:0.287672+0.000332106\ttest-error:0.296694+0.00213136\n",
      "[220]\ttrain-error:0.286971+0.00044716\ttest-error:0.296259+0.00225046\n",
      "[230]\ttrain-error:0.286377+0.000410377\ttest-error:0.295667+0.00201757\n",
      "[240]\ttrain-error:0.285688+0.000337599\ttest-error:0.295565+0.00217959\n",
      "[250]\ttrain-error:0.285177+0.000406375\ttest-error:0.295158+0.00222894\n",
      "[260]\ttrain-error:0.284516+0.000542784\ttest-error:0.294872+0.00269868\n",
      "[270]\ttrain-error:0.283882+0.00061471\ttest-error:0.294825+0.00270694\n",
      "[280]\ttrain-error:0.283399+0.000620462\ttest-error:0.294585+0.00269566\n",
      "[290]\ttrain-error:0.282851+0.000623639\ttest-error:0.294446+0.00253516\n",
      "[300]\ttrain-error:0.282363+0.000543654\ttest-error:0.294252+0.00262434\n",
      "[310]\ttrain-error:0.281803+0.000486359\ttest-error:0.293919+0.00287773\n",
      "[320]\ttrain-error:0.281105+0.000403881\ttest-error:0.293688+0.00292897\n",
      "[330]\ttrain-error:0.280597+0.000459797\ttest-error:0.293521+0.00303257\n",
      "[340]\ttrain-error:0.280148+0.00046079\ttest-error:0.293281+0.00297513\n",
      "[350]\ttrain-error:0.279646+0.000617943\ttest-error:0.292957+0.00311209\n",
      "[360]\ttrain-error:0.279168+0.000616873\ttest-error:0.292846+0.00297532\n",
      "[370]\ttrain-error:0.278761+0.000620635\ttest-error:0.292735+0.00301379\n",
      "[380]\ttrain-error:0.278335+0.000541685\ttest-error:0.292449+0.00247693\n",
      "[390]\ttrain-error:0.277799+0.000473604\ttest-error:0.292365+0.00255371\n",
      "[400]\ttrain-error:0.277364+0.000432076\ttest-error:0.292208+0.0025166\n",
      "[410]\ttrain-error:0.277059+0.000473867\ttest-error:0.292236+0.00248726\n",
      "[420]\ttrain-error:0.276691+0.000529524\ttest-error:0.292069+0.00228307\n",
      "[430]\ttrain-error:0.276312+0.000515959\ttest-error:0.291894+0.00246843\n",
      "[440]\ttrain-error:0.275882+0.000421915\ttest-error:0.291912+0.00228741\n",
      "[450]\ttrain-error:0.275494+0.00037076\ttest-error:0.291838+0.00226684\n",
      "[460]\ttrain-error:0.275128+0.000332965\ttest-error:0.291625+0.00235196\n",
      "[470]\ttrain-error:0.274717+0.000316365\ttest-error:0.291459+0.00236651\n",
      "[480]\ttrain-error:0.274259+0.000313856\ttest-error:0.2912+0.00218913\n",
      "[490]\ttrain-error:0.274035+0.000301581\ttest-error:0.291255+0.00210692\n",
      "[500]\ttrain-error:0.273468+0.000185776\ttest-error:0.291376+0.00224739\n",
      "[510]\ttrain-error:0.273191+0.00023289\ttest-error:0.291237+0.00207682\n",
      "[520]\ttrain-error:0.272754+0.000323145\ttest-error:0.291154+0.0019783\n",
      "[530]\ttrain-error:0.272354+0.000459854\ttest-error:0.291043+0.00184266\n",
      "[540]\ttrain-error:0.272125+0.000443164\ttest-error:0.290803+0.00201709\n",
      "[550]\ttrain-error:0.271697+0.000451869\ttest-error:0.290839+0.00190553\n",
      "[560]\ttrain-error:0.271399+0.000402265\ttest-error:0.290756+0.00195834\n",
      "[570]\ttrain-error:0.270948+0.000337663\ttest-error:0.290562+0.00200808\n",
      "[580]\ttrain-error:0.270742+0.000327824\ttest-error:0.290469+0.00200706\n",
      "[590]\ttrain-error:0.270425+0.000407154\ttest-error:0.290414+0.00205703\n",
      "[600]\ttrain-error:0.26985+0.000536868\ttest-error:0.290516+0.00199156\n",
      "[610]\ttrain-error:0.269503+0.000586974\ttest-error:0.290294+0.00187245\n",
      "[620]\ttrain-error:0.269145+0.000450938\ttest-error:0.290201+0.00165715\n",
      "[630]\ttrain-error:0.268698+0.00042146\ttest-error:0.290238+0.00193652\n",
      "[640]\ttrain-error:0.268354+0.000531662\ttest-error:0.290025+0.0020416\n",
      "[650]\ttrain-error:0.268009+0.000534153\ttest-error:0.28985+0.00201176\n",
      "[660]\ttrain-error:0.267734+0.000506225\ttest-error:0.289831+0.00192465\n",
      "[670]\ttrain-error:0.267376+0.000429513\ttest-error:0.289776+0.00196766\n",
      "[680]\ttrain-error:0.267017+0.000419928\ttest-error:0.289581+0.00203087\n",
      "[690]\ttrain-error:0.266633+0.000382625\ttest-error:0.289332+0.00177401\n",
      "[700]\ttrain-error:0.266222+0.000387608\ttest-error:0.289249+0.00193514\n",
      "[710]\ttrain-error:0.26588+0.000508961\ttest-error:0.289165+0.00194176\n",
      "[720]\ttrain-error:0.265637+0.000436321\ttest-error:0.289313+0.00193127\n",
      "[730]\ttrain-error:0.26532+0.00043255\ttest-error:0.289294+0.00187972\n",
      "[740]\ttrain-error:0.264992+0.00039755\ttest-error:0.289036+0.00217672\n",
      "[750]\ttrain-error:0.264738+0.000380172\ttest-error:0.288703+0.00227192\n",
      "[760]\ttrain-error:0.264296+0.000380318\ttest-error:0.288574+0.00212984\n",
      "[770]\ttrain-error:0.263945+0.000414245\ttest-error:0.288536+0.00217271\n",
      "[780]\ttrain-error:0.263697+0.000420404\ttest-error:0.288555+0.00197011\n",
      "[790]\ttrain-error:0.263387+0.000520299\ttest-error:0.288472+0.00192051\n",
      "[800]\ttrain-error:0.263033+0.000441476\ttest-error:0.288342+0.0018623\n",
      "[810]\ttrain-error:0.262659+0.00048632\ttest-error:0.288213+0.00194232\n",
      "[820]\ttrain-error:0.262439+0.00043551\ttest-error:0.288092+0.0018118\n",
      "[830]\ttrain-error:0.262071+0.00039352\ttest-error:0.288083+0.00198501\n",
      "[840]\ttrain-error:0.261773+0.000475801\ttest-error:0.288102+0.00208308\n",
      "[850]\ttrain-error:0.261526+0.000363601\ttest-error:0.288019+0.00214895\n",
      "[860]\ttrain-error:0.26117+0.000461976\ttest-error:0.287843+0.00203752\n",
      "[870]\ttrain-error:0.260964+0.000516253\ttest-error:0.287852+0.00203576\n",
      "[880]\ttrain-error:0.260523+0.000484179\ttest-error:0.287695+0.00204871\n",
      "[890]\ttrain-error:0.260294+0.000513994\ttest-error:0.287759+0.00184146\n",
      "[900]\ttrain-error:0.25994+0.000422288\ttest-error:0.287889+0.00199444\n",
      "[910]\ttrain-error:0.259561+0.000514045\ttest-error:0.287741+0.00193242\n",
      "[920]\ttrain-error:0.259288+0.000572332\ttest-error:0.287713+0.00195304\n"
     ]
    }
   ],
   "source": [
    "bst = xgb.cv(params, dtrain, num_boost_round=1050, early_stopping_rounds=40,nfold=5L,verbose_eval=10)"
   ]
  },
  {
   "cell_type": "code",
   "execution_count": 34,
   "metadata": {
    "collapsed": true
   },
   "outputs": [],
   "source": [
    "model = xgb.train(params, dtrain, num_boost_round=1000)"
   ]
  },
  {
   "cell_type": "code",
   "execution_count": 35,
   "metadata": {
    "collapsed": true
   },
   "outputs": [],
   "source": [
    "predictions = model.predict(dtest)"
   ]
  },
  {
   "cell_type": "code",
   "execution_count": 38,
   "metadata": {
    "collapsed": false
   },
   "outputs": [],
   "source": [
    "sub = pd.DataFrame()\n",
    "sub['project_id'] = ids\n",
    "sub['final_status'] = predictions"
   ]
  },
  {
   "cell_type": "code",
   "execution_count": 39,
   "metadata": {
    "collapsed": false
   },
   "outputs": [],
   "source": [
    "sub['final_status'] = [1 if x > 0.5 else 0 for x in sub['final_status']]"
   ]
  },
  {
   "cell_type": "code",
   "execution_count": 40,
   "metadata": {
    "collapsed": true
   },
   "outputs": [],
   "source": [
    "sub.to_csv(\"check.csv\",index=False) #0.70"
   ]
  },
  {
   "cell_type": "code",
   "execution_count": null,
   "metadata": {
    "collapsed": true
   },
   "outputs": [],
   "source": []
  }
 ],
 "metadata": {
  "kernelspec": {
   "display_name": "Python 2",
   "language": "python",
   "name": "python2"
  },
  "language_info": {
   "codemirror_mode": {
    "name": "ipython",
    "version": 2
   },
   "file_extension": ".py",
   "mimetype": "text/x-python",
   "name": "python",
   "nbconvert_exporter": "python",
   "pygments_lexer": "ipython2",
   "version": "2.7.12"
  }
 },
 "nbformat": 4,
 "nbformat_minor": 2
}
